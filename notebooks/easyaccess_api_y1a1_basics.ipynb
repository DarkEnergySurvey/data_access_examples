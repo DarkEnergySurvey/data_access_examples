{
 "cells": [
  {
   "cell_type": "markdown",
   "metadata": {},
   "source": [
    "## Welcome (This is a example notebook to get started with DES data)\n",
    "\n",
    "\n",
    "### You would need to enter your credentials again the first time...\n",
    "\n",
    "### Then It'll be saved in your space\n",
    "\n",
    "### Click here to get to your home directory [Home](../tree)"
   ]
  },
  {
   "cell_type": "code",
   "execution_count": 1,
   "metadata": {
    "collapsed": true,
    "scrolled": true
   },
   "outputs": [],
   "source": [
    "%matplotlib inline"
   ]
  },
  {
   "cell_type": "code",
   "execution_count": 3,
   "metadata": {
    "collapsed": false,
    "scrolled": true
   },
   "outputs": [
    {
     "name": "stdout",
     "output_type": "stream",
     "text": [
      "1.3.0\n"
     ]
    }
   ],
   "source": [
    "import easyaccess as ea\n",
    "import numpy as np\n",
    "import pandas as pd\n",
    "import matplotlib.pyplot as plt\n",
    "import seaborn as sns\n",
    "from scipy import stats\n",
    "print(ea.__version__)"
   ]
  },
  {
   "cell_type": "code",
   "execution_count": 6,
   "metadata": {
    "collapsed": false,
    "scrolled": true
   },
   "outputs": [
    {
     "name": "stdout",
     "output_type": "stream",
     "text": [
      "Connecting to DB ** dessci ** ...\n"
     ]
    }
   ],
   "source": [
    "# Connecting to the DES DB\n",
    "connection=ea.connect()"
   ]
  },
  {
   "cell_type": "code",
   "execution_count": 7,
   "metadata": {
    "collapsed": false,
    "scrolled": true
   },
   "outputs": [],
   "source": [
    "# Example query\n",
    "query='select * from mcarras2.mini_y1a1 where mag_auto_r between 10 and 30 and mag_auto_i between 10 and 30' ##query"
   ]
  },
  {
   "cell_type": "markdown",
   "metadata": {},
   "source": [
    "### Get data to pandas in one line"
   ]
  },
  {
   "cell_type": "code",
   "execution_count": 16,
   "metadata": {
    "collapsed": false,
    "scrolled": true
   },
   "outputs": [],
   "source": [
    "DF=connection.query_to_pandas(query) #one line!"
   ]
  },
  {
   "cell_type": "code",
   "execution_count": 9,
   "metadata": {
    "collapsed": true,
    "scrolled": true
   },
   "outputs": [],
   "source": [
    "# Change pandas displat\n",
    "pd.set_option('display.max_rows',12) #Display only"
   ]
  },
  {
   "cell_type": "code",
   "execution_count": 10,
   "metadata": {
    "collapsed": false,
    "scrolled": true
   },
   "outputs": [
    {
     "data": {
      "text/html": [
       "<div>\n",
       "<table border=\"1\" class=\"dataframe\">\n",
       "  <thead>\n",
       "    <tr style=\"text-align: right;\">\n",
       "      <th></th>\n",
       "      <th>COADD_OBJECTS_ID</th>\n",
       "      <th>RA</th>\n",
       "      <th>DEC</th>\n",
       "      <th>MAG_AUTO_G</th>\n",
       "      <th>MAG_AUTO_R</th>\n",
       "      <th>MAG_AUTO_I</th>\n",
       "      <th>TILENAME</th>\n",
       "      <th>MAGERR_DETMODEL_I</th>\n",
       "      <th>FLAGS_I</th>\n",
       "      <th>XCORR_SFD98_G</th>\n",
       "    </tr>\n",
       "  </thead>\n",
       "  <tbody>\n",
       "    <tr>\n",
       "      <th>0</th>\n",
       "      <td>3120938977</td>\n",
       "      <td>9.553670</td>\n",
       "      <td>-52.858189</td>\n",
       "      <td>99.0000</td>\n",
       "      <td>23.3937</td>\n",
       "      <td>23.5964</td>\n",
       "      <td>DES0037-5248</td>\n",
       "      <td>20141118000041_DES0037-5248</td>\n",
       "      <td>0</td>\n",
       "      <td>0.063832</td>\n",
       "    </tr>\n",
       "    <tr>\n",
       "      <th>1</th>\n",
       "      <td>3120944503</td>\n",
       "      <td>9.999752</td>\n",
       "      <td>-52.754332</td>\n",
       "      <td>22.4878</td>\n",
       "      <td>21.9532</td>\n",
       "      <td>21.7433</td>\n",
       "      <td>DES0037-5248</td>\n",
       "      <td>20141118000041_DES0037-5248</td>\n",
       "      <td>0</td>\n",
       "      <td>0.056015</td>\n",
       "    </tr>\n",
       "    <tr>\n",
       "      <th>2</th>\n",
       "      <td>3120954907</td>\n",
       "      <td>9.114992</td>\n",
       "      <td>-52.555158</td>\n",
       "      <td>25.3244</td>\n",
       "      <td>23.3327</td>\n",
       "      <td>22.3868</td>\n",
       "      <td>DES0037-5248</td>\n",
       "      <td>20141118000041_DES0037-5248</td>\n",
       "      <td>0</td>\n",
       "      <td>0.061165</td>\n",
       "    </tr>\n",
       "    <tr>\n",
       "      <th>3</th>\n",
       "      <td>3120936831</td>\n",
       "      <td>8.994403</td>\n",
       "      <td>-52.899365</td>\n",
       "      <td>24.9927</td>\n",
       "      <td>24.5518</td>\n",
       "      <td>23.8233</td>\n",
       "      <td>DES0037-5248</td>\n",
       "      <td>20141118000041_DES0037-5248</td>\n",
       "      <td>0</td>\n",
       "      <td>0.059757</td>\n",
       "    </tr>\n",
       "    <tr>\n",
       "      <th>4</th>\n",
       "      <td>3120952757</td>\n",
       "      <td>9.427335</td>\n",
       "      <td>-52.595066</td>\n",
       "      <td>23.6036</td>\n",
       "      <td>23.5077</td>\n",
       "      <td>22.6008</td>\n",
       "      <td>DES0037-5248</td>\n",
       "      <td>20141118000041_DES0037-5248</td>\n",
       "      <td>0</td>\n",
       "      <td>0.055830</td>\n",
       "    </tr>\n",
       "    <tr>\n",
       "      <th>5</th>\n",
       "      <td>3120045269</td>\n",
       "      <td>10.008397</td>\n",
       "      <td>-42.256504</td>\n",
       "      <td>24.9008</td>\n",
       "      <td>24.5805</td>\n",
       "      <td>23.9592</td>\n",
       "      <td>DES0041-4206</td>\n",
       "      <td>20141118000041_DES0041-4206</td>\n",
       "      <td>0</td>\n",
       "      <td>0.041641</td>\n",
       "    </tr>\n",
       "    <tr>\n",
       "      <th>...</th>\n",
       "      <td>...</td>\n",
       "      <td>...</td>\n",
       "      <td>...</td>\n",
       "      <td>...</td>\n",
       "      <td>...</td>\n",
       "      <td>...</td>\n",
       "      <td>...</td>\n",
       "      <td>...</td>\n",
       "      <td>...</td>\n",
       "      <td>...</td>\n",
       "    </tr>\n",
       "    <tr>\n",
       "      <th>13368</th>\n",
       "      <td>3130452163</td>\n",
       "      <td>351.805436</td>\n",
       "      <td>-55.213665</td>\n",
       "      <td>23.2921</td>\n",
       "      <td>22.7168</td>\n",
       "      <td>22.5535</td>\n",
       "      <td>DES2328-5457</td>\n",
       "      <td>20141202000011_DES2328-5457</td>\n",
       "      <td>0</td>\n",
       "      <td>0.036640</td>\n",
       "    </tr>\n",
       "    <tr>\n",
       "      <th>13369</th>\n",
       "      <td>3130463106</td>\n",
       "      <td>351.773849</td>\n",
       "      <td>-54.937334</td>\n",
       "      <td>23.9523</td>\n",
       "      <td>22.5014</td>\n",
       "      <td>21.7478</td>\n",
       "      <td>DES2328-5457</td>\n",
       "      <td>20141202000011_DES2328-5457</td>\n",
       "      <td>0</td>\n",
       "      <td>0.034565</td>\n",
       "    </tr>\n",
       "    <tr>\n",
       "      <th>13370</th>\n",
       "      <td>3130458607</td>\n",
       "      <td>352.285689</td>\n",
       "      <td>-55.050823</td>\n",
       "      <td>21.1033</td>\n",
       "      <td>20.5093</td>\n",
       "      <td>20.1339</td>\n",
       "      <td>DES2328-5457</td>\n",
       "      <td>20141202000011_DES2328-5457</td>\n",
       "      <td>0</td>\n",
       "      <td>0.043197</td>\n",
       "    </tr>\n",
       "    <tr>\n",
       "      <th>13371</th>\n",
       "      <td>3129748112</td>\n",
       "      <td>354.115727</td>\n",
       "      <td>-42.887240</td>\n",
       "      <td>23.6844</td>\n",
       "      <td>22.7677</td>\n",
       "      <td>22.6865</td>\n",
       "      <td>DES2335-4249</td>\n",
       "      <td>20141202000011_DES2335-4249</td>\n",
       "      <td>0</td>\n",
       "      <td>0.048606</td>\n",
       "    </tr>\n",
       "    <tr>\n",
       "      <th>13372</th>\n",
       "      <td>3129768211</td>\n",
       "      <td>353.944852</td>\n",
       "      <td>-42.769342</td>\n",
       "      <td>24.6917</td>\n",
       "      <td>24.0493</td>\n",
       "      <td>23.6182</td>\n",
       "      <td>DES2335-4249</td>\n",
       "      <td>20141202000011_DES2335-4249</td>\n",
       "      <td>0</td>\n",
       "      <td>0.054682</td>\n",
       "    </tr>\n",
       "    <tr>\n",
       "      <th>13373</th>\n",
       "      <td>3129775564</td>\n",
       "      <td>353.928609</td>\n",
       "      <td>-42.712737</td>\n",
       "      <td>24.8205</td>\n",
       "      <td>22.9208</td>\n",
       "      <td>21.8094</td>\n",
       "      <td>DES2335-4249</td>\n",
       "      <td>20141202000011_DES2335-4249</td>\n",
       "      <td>0</td>\n",
       "      <td>0.057757</td>\n",
       "    </tr>\n",
       "  </tbody>\n",
       "</table>\n",
       "<p>13374 rows × 10 columns</p>\n",
       "</div>"
      ],
      "text/plain": [
       "       COADD_OBJECTS_ID          RA        DEC  MAG_AUTO_G  MAG_AUTO_R  MAG_AUTO_I      TILENAME            MAGERR_DETMODEL_I  FLAGS_I  XCORR_SFD98_G\n",
       "0            3120938977    9.553670 -52.858189     99.0000     23.3937     23.5964  DES0037-5248  20141118000041_DES0037-5248        0       0.063832\n",
       "1            3120944503    9.999752 -52.754332     22.4878     21.9532     21.7433  DES0037-5248  20141118000041_DES0037-5248        0       0.056015\n",
       "2            3120954907    9.114992 -52.555158     25.3244     23.3327     22.3868  DES0037-5248  20141118000041_DES0037-5248        0       0.061165\n",
       "3            3120936831    8.994403 -52.899365     24.9927     24.5518     23.8233  DES0037-5248  20141118000041_DES0037-5248        0       0.059757\n",
       "4            3120952757    9.427335 -52.595066     23.6036     23.5077     22.6008  DES0037-5248  20141118000041_DES0037-5248        0       0.055830\n",
       "5            3120045269   10.008397 -42.256504     24.9008     24.5805     23.9592  DES0041-4206  20141118000041_DES0041-4206        0       0.041641\n",
       "...                 ...         ...        ...         ...         ...         ...           ...                          ...      ...            ...\n",
       "13368        3130452163  351.805436 -55.213665     23.2921     22.7168     22.5535  DES2328-5457  20141202000011_DES2328-5457        0       0.036640\n",
       "13369        3130463106  351.773849 -54.937334     23.9523     22.5014     21.7478  DES2328-5457  20141202000011_DES2328-5457        0       0.034565\n",
       "13370        3130458607  352.285689 -55.050823     21.1033     20.5093     20.1339  DES2328-5457  20141202000011_DES2328-5457        0       0.043197\n",
       "13371        3129748112  354.115727 -42.887240     23.6844     22.7677     22.6865  DES2335-4249  20141202000011_DES2335-4249        0       0.048606\n",
       "13372        3129768211  353.944852 -42.769342     24.6917     24.0493     23.6182  DES2335-4249  20141202000011_DES2335-4249        0       0.054682\n",
       "13373        3129775564  353.928609 -42.712737     24.8205     22.9208     21.8094  DES2335-4249  20141202000011_DES2335-4249        0       0.057757\n",
       "\n",
       "[13374 rows x 10 columns]"
      ]
     },
     "execution_count": 10,
     "metadata": {},
     "output_type": "execute_result"
    }
   ],
   "source": [
    "# Have a look to the data\n",
    "DF"
   ]
  },
  {
   "cell_type": "code",
   "execution_count": 11,
   "metadata": {
    "collapsed": false,
    "scrolled": true
   },
   "outputs": [],
   "source": [
    "# do some plots\n",
    "X, Y = np.mgrid[20:27:70j, 20:27:70j]\n",
    "positions = np.vstack([X.ravel(), Y.ravel()])\n",
    "values = np.vstack([DF.MAG_AUTO_R, DF.MAG_AUTO_I])\n",
    "kernel = stats.gaussian_kde(values)\n",
    "Z = np.reshape(kernel(positions).T, X.shape)"
   ]
  },
  {
   "cell_type": "code",
   "execution_count": 12,
   "metadata": {
    "collapsed": false,
    "scrolled": true
   },
   "outputs": [
    {
     "data": {
      "text/plain": [
       "<matplotlib.image.AxesImage at 0x7fc8582075f8>"
      ]
     },
     "execution_count": 12,
     "metadata": {},
     "output_type": "execute_result"
    },
    {
     "data": {
      "image/png": "[encoded data removed]",
      "text/plain": [
       "<matplotlib.figure.Figure at 0x7fc8581dd400>"
      ]
     },
     "metadata": {},
     "output_type": "display_data"
    }
   ],
   "source": [
    "plt.imshow(np.rot90(Z), cmap=plt.cm.gist_earth_r,extent=[20, 27, 20, 27])"
   ]
  },
  {
   "cell_type": "code",
   "execution_count": 31,
   "metadata": {
    "collapsed": false,
    "scrolled": true
   },
   "outputs": [
    {
     "name": "stdout",
     "output_type": "stream",
     "text": [
      "\n"
     ]
    }
   ],
   "source": [
    "print()"
   ]
  },
  {
   "cell_type": "code",
   "execution_count": 13,
   "metadata": {
    "collapsed": false,
    "scrolled": true
   },
   "outputs": [
    {
     "data": {
      "text/plain": [
       "<seaborn.axisgrid.JointGrid at 0x7fc8581eb668>"
      ]
     },
     "execution_count": 13,
     "metadata": {},
     "output_type": "execute_result"
    },
    {
     "data": {
      "text/plain": [
       "<matplotlib.figure.Figure at 0x7fc84fe1b1d0>"
      ]
     },
     "metadata": {},
     "output_type": "display_data"
    },
    {
     "data": {
      "image/png": "[encoded data removed]",
      "text/plain": [
       "<matplotlib.figure.Figure at 0x7fc850308c18>"
      ]
     },
     "metadata": {},
     "output_type": "display_data"
    }
   ],
   "source": [
    "plt.figure(figsize=(8,8))\n",
    "sns.set_style(\"whitegrid\")\n",
    "temp=sns.JointGrid(DF.MAG_AUTO_R, DF.MAG_AUTO_I,xlim=[20,27],ylim=[20,27],space=0, size=6)\n",
    "temp.plot_joint(sns.kdeplot,cmap='jet',alpha=0.8,n_levels=10)\n",
    "#temp.plot_joint(plt.imshow,np.rot90(Z), cmap=plt.cm.gist_earth_r,extent=[20, 27, 20, 27])\n",
    "temp.plot_joint(plt.scatter, s= .3,color='black')\n",
    "temp.plot_marginals(sns.distplot, color='green',kde=True)"
   ]
  },
  {
   "cell_type": "code",
   "execution_count": 17,
   "metadata": {
    "collapsed": false,
    "scrolled": true
   },
   "outputs": [
    {
     "data": {
      "text/plain": [
       "<matplotlib.axes.AxesSubplot at 0x7fc8581f9ac8>"
      ]
     },
     "execution_count": 17,
     "metadata": {},
     "output_type": "execute_result"
    },
    {
     "data": {
      "image/png": "[encoded data removed]",
      "text/plain": [
       "<matplotlib.figure.Figure at 0x7fc85028ce80>"
      ]
     },
     "metadata": {},
     "output_type": "display_data"
    }
   ],
   "source": [
    "sns.distplot(DF.MAG_AUTO_I[(DF.MAG_AUTO_I>15) & (DF.MAG_AUTO_I<28)],color='blue')"
   ]
  },
  {
   "cell_type": "markdown",
   "metadata": {
    "collapsed": true,
    "scrolled": true
   },
   "source": [
    "### Since 1.3.0 query_to_pandas can return an iterator! (avoid memory issues)"
   ]
  },
  {
   "cell_type": "code",
   "execution_count": 20,
   "metadata": {
    "collapsed": false
   },
   "outputs": [
    {
     "data": {
      "text/plain": [
       "<easyaccess.easyaccess.IterData at 0x7fc8503595c0>"
      ]
     },
     "execution_count": 20,
     "metadata": {},
     "output_type": "execute_result"
    }
   ],
   "source": [
    "DF=connection.query_to_pandas(query, prefetch=5000, iterator=True)\n",
    "DF"
   ]
  },
  {
   "cell_type": "code",
   "execution_count": 21,
   "metadata": {
    "collapsed": false
   },
   "outputs": [
    {
     "data": {
      "text/html": [
       "<div>\n",
       "<table border=\"1\" class=\"dataframe\">\n",
       "  <thead>\n",
       "    <tr style=\"text-align: right;\">\n",
       "      <th></th>\n",
       "      <th>COADD_OBJECTS_ID</th>\n",
       "      <th>RA</th>\n",
       "      <th>DEC</th>\n",
       "      <th>MAG_AUTO_G</th>\n",
       "      <th>MAG_AUTO_R</th>\n",
       "      <th>MAG_AUTO_I</th>\n",
       "      <th>TILENAME</th>\n",
       "      <th>MAGERR_DETMODEL_I</th>\n",
       "      <th>FLAGS_I</th>\n",
       "      <th>XCORR_SFD98_G</th>\n",
       "    </tr>\n",
       "  </thead>\n",
       "  <tbody>\n",
       "    <tr>\n",
       "      <th>0</th>\n",
       "      <td>3120938977</td>\n",
       "      <td>9.553670</td>\n",
       "      <td>-52.858189</td>\n",
       "      <td>99.0000</td>\n",
       "      <td>23.3937</td>\n",
       "      <td>23.5964</td>\n",
       "      <td>DES0037-5248</td>\n",
       "      <td>20141118000041_DES0037-5248</td>\n",
       "      <td>0</td>\n",
       "      <td>0.063832</td>\n",
       "    </tr>\n",
       "    <tr>\n",
       "      <th>1</th>\n",
       "      <td>3120944503</td>\n",
       "      <td>9.999752</td>\n",
       "      <td>-52.754332</td>\n",
       "      <td>22.4878</td>\n",
       "      <td>21.9532</td>\n",
       "      <td>21.7433</td>\n",
       "      <td>DES0037-5248</td>\n",
       "      <td>20141118000041_DES0037-5248</td>\n",
       "      <td>0</td>\n",
       "      <td>0.056015</td>\n",
       "    </tr>\n",
       "    <tr>\n",
       "      <th>2</th>\n",
       "      <td>3120954907</td>\n",
       "      <td>9.114992</td>\n",
       "      <td>-52.555158</td>\n",
       "      <td>25.3244</td>\n",
       "      <td>23.3327</td>\n",
       "      <td>22.3868</td>\n",
       "      <td>DES0037-5248</td>\n",
       "      <td>20141118000041_DES0037-5248</td>\n",
       "      <td>0</td>\n",
       "      <td>0.061165</td>\n",
       "    </tr>\n",
       "    <tr>\n",
       "      <th>3</th>\n",
       "      <td>3120936831</td>\n",
       "      <td>8.994403</td>\n",
       "      <td>-52.899365</td>\n",
       "      <td>24.9927</td>\n",
       "      <td>24.5518</td>\n",
       "      <td>23.8233</td>\n",
       "      <td>DES0037-5248</td>\n",
       "      <td>20141118000041_DES0037-5248</td>\n",
       "      <td>0</td>\n",
       "      <td>0.059757</td>\n",
       "    </tr>\n",
       "    <tr>\n",
       "      <th>4</th>\n",
       "      <td>3120952757</td>\n",
       "      <td>9.427335</td>\n",
       "      <td>-52.595066</td>\n",
       "      <td>23.6036</td>\n",
       "      <td>23.5077</td>\n",
       "      <td>22.6008</td>\n",
       "      <td>DES0037-5248</td>\n",
       "      <td>20141118000041_DES0037-5248</td>\n",
       "      <td>0</td>\n",
       "      <td>0.055830</td>\n",
       "    </tr>\n",
       "    <tr>\n",
       "      <th>5</th>\n",
       "      <td>3120045269</td>\n",
       "      <td>10.008397</td>\n",
       "      <td>-42.256504</td>\n",
       "      <td>24.9008</td>\n",
       "      <td>24.5805</td>\n",
       "      <td>23.9592</td>\n",
       "      <td>DES0041-4206</td>\n",
       "      <td>20141118000041_DES0041-4206</td>\n",
       "      <td>0</td>\n",
       "      <td>0.041641</td>\n",
       "    </tr>\n",
       "    <tr>\n",
       "      <th>...</th>\n",
       "      <td>...</td>\n",
       "      <td>...</td>\n",
       "      <td>...</td>\n",
       "      <td>...</td>\n",
       "      <td>...</td>\n",
       "      <td>...</td>\n",
       "      <td>...</td>\n",
       "      <td>...</td>\n",
       "      <td>...</td>\n",
       "      <td>...</td>\n",
       "    </tr>\n",
       "    <tr>\n",
       "      <th>4994</th>\n",
       "      <td>3072447876</td>\n",
       "      <td>60.701095</td>\n",
       "      <td>-60.112017</td>\n",
       "      <td>24.4312</td>\n",
       "      <td>24.1457</td>\n",
       "      <td>24.1968</td>\n",
       "      <td>DES0401-5957</td>\n",
       "      <td>20141105000042_DES0401-5957</td>\n",
       "      <td>0</td>\n",
       "      <td>0.066426</td>\n",
       "    </tr>\n",
       "    <tr>\n",
       "      <th>4995</th>\n",
       "      <td>3072441712</td>\n",
       "      <td>60.716237</td>\n",
       "      <td>-60.173998</td>\n",
       "      <td>23.7143</td>\n",
       "      <td>22.8221</td>\n",
       "      <td>22.3142</td>\n",
       "      <td>DES0401-5957</td>\n",
       "      <td>20141105000042_DES0401-5957</td>\n",
       "      <td>3</td>\n",
       "      <td>0.061461</td>\n",
       "    </tr>\n",
       "    <tr>\n",
       "      <th>4996</th>\n",
       "      <td>3072483360</td>\n",
       "      <td>60.575693</td>\n",
       "      <td>-59.785141</td>\n",
       "      <td>25.4950</td>\n",
       "      <td>25.0365</td>\n",
       "      <td>24.4309</td>\n",
       "      <td>DES0401-5957</td>\n",
       "      <td>20141105000042_DES0401-5957</td>\n",
       "      <td>0</td>\n",
       "      <td>0.064092</td>\n",
       "    </tr>\n",
       "    <tr>\n",
       "      <th>4997</th>\n",
       "      <td>3072461538</td>\n",
       "      <td>60.120949</td>\n",
       "      <td>-59.982189</td>\n",
       "      <td>23.3374</td>\n",
       "      <td>22.9761</td>\n",
       "      <td>22.5560</td>\n",
       "      <td>DES0401-5957</td>\n",
       "      <td>20141105000042_DES0401-5957</td>\n",
       "      <td>0</td>\n",
       "      <td>0.067315</td>\n",
       "    </tr>\n",
       "    <tr>\n",
       "      <th>4998</th>\n",
       "      <td>3072649972</td>\n",
       "      <td>60.406544</td>\n",
       "      <td>-52.353674</td>\n",
       "      <td>25.3226</td>\n",
       "      <td>23.8723</td>\n",
       "      <td>23.3619</td>\n",
       "      <td>DES0401-5205</td>\n",
       "      <td>20141105000042_DES0401-5205</td>\n",
       "      <td>0</td>\n",
       "      <td>0.050088</td>\n",
       "    </tr>\n",
       "    <tr>\n",
       "      <th>4999</th>\n",
       "      <td>3072662735</td>\n",
       "      <td>60.610121</td>\n",
       "      <td>-52.145895</td>\n",
       "      <td>25.6223</td>\n",
       "      <td>24.9588</td>\n",
       "      <td>24.4987</td>\n",
       "      <td>DES0401-5205</td>\n",
       "      <td>20141105000042_DES0401-5205</td>\n",
       "      <td>0</td>\n",
       "      <td>0.052088</td>\n",
       "    </tr>\n",
       "  </tbody>\n",
       "</table>\n",
       "<p>5000 rows × 10 columns</p>\n",
       "</div>"
      ],
      "text/plain": [
       "      COADD_OBJECTS_ID         RA        DEC  MAG_AUTO_G  MAG_AUTO_R  MAG_AUTO_I      TILENAME            MAGERR_DETMODEL_I  FLAGS_I  XCORR_SFD98_G\n",
       "0           3120938977   9.553670 -52.858189     99.0000     23.3937     23.5964  DES0037-5248  20141118000041_DES0037-5248        0       0.063832\n",
       "1           3120944503   9.999752 -52.754332     22.4878     21.9532     21.7433  DES0037-5248  20141118000041_DES0037-5248        0       0.056015\n",
       "2           3120954907   9.114992 -52.555158     25.3244     23.3327     22.3868  DES0037-5248  20141118000041_DES0037-5248        0       0.061165\n",
       "3           3120936831   8.994403 -52.899365     24.9927     24.5518     23.8233  DES0037-5248  20141118000041_DES0037-5248        0       0.059757\n",
       "4           3120952757   9.427335 -52.595066     23.6036     23.5077     22.6008  DES0037-5248  20141118000041_DES0037-5248        0       0.055830\n",
       "5           3120045269  10.008397 -42.256504     24.9008     24.5805     23.9592  DES0041-4206  20141118000041_DES0041-4206        0       0.041641\n",
       "...                ...        ...        ...         ...         ...         ...           ...                          ...      ...            ...\n",
       "4994        3072447876  60.701095 -60.112017     24.4312     24.1457     24.1968  DES0401-5957  20141105000042_DES0401-5957        0       0.066426\n",
       "4995        3072441712  60.716237 -60.173998     23.7143     22.8221     22.3142  DES0401-5957  20141105000042_DES0401-5957        3       0.061461\n",
       "4996        3072483360  60.575693 -59.785141     25.4950     25.0365     24.4309  DES0401-5957  20141105000042_DES0401-5957        0       0.064092\n",
       "4997        3072461538  60.120949 -59.982189     23.3374     22.9761     22.5560  DES0401-5957  20141105000042_DES0401-5957        0       0.067315\n",
       "4998        3072649972  60.406544 -52.353674     25.3226     23.8723     23.3619  DES0401-5205  20141105000042_DES0401-5205        0       0.050088\n",
       "4999        3072662735  60.610121 -52.145895     25.6223     24.9588     24.4987  DES0401-5205  20141105000042_DES0401-5205        0       0.052088\n",
       "\n",
       "[5000 rows x 10 columns]"
      ]
     },
     "execution_count": 21,
     "metadata": {},
     "output_type": "execute_result"
    }
   ],
   "source": [
    "DF.next()"
   ]
  },
  {
   "cell_type": "code",
   "execution_count": 22,
   "metadata": {
    "collapsed": false
   },
   "outputs": [
    {
     "data": {
      "text/html": [
       "<div>\n",
       "<table border=\"1\" class=\"dataframe\">\n",
       "  <thead>\n",
       "    <tr style=\"text-align: right;\">\n",
       "      <th></th>\n",
       "      <th>COADD_OBJECTS_ID</th>\n",
       "      <th>RA</th>\n",
       "      <th>DEC</th>\n",
       "      <th>MAG_AUTO_G</th>\n",
       "      <th>MAG_AUTO_R</th>\n",
       "      <th>MAG_AUTO_I</th>\n",
       "      <th>TILENAME</th>\n",
       "      <th>MAGERR_DETMODEL_I</th>\n",
       "      <th>FLAGS_I</th>\n",
       "      <th>XCORR_SFD98_G</th>\n",
       "    </tr>\n",
       "  </thead>\n",
       "  <tbody>\n",
       "    <tr>\n",
       "      <th>0</th>\n",
       "      <td>3072879245</td>\n",
       "      <td>59.149460</td>\n",
       "      <td>-40.076769</td>\n",
       "      <td>24.4472</td>\n",
       "      <td>24.2912</td>\n",
       "      <td>23.9567</td>\n",
       "      <td>DES0357-3957</td>\n",
       "      <td>20141105000042_DES0357-3957</td>\n",
       "      <td>0</td>\n",
       "      <td>0.038233</td>\n",
       "    </tr>\n",
       "    <tr>\n",
       "      <th>1</th>\n",
       "      <td>3072915159</td>\n",
       "      <td>58.978412</td>\n",
       "      <td>-39.694625</td>\n",
       "      <td>24.6694</td>\n",
       "      <td>22.5159</td>\n",
       "      <td>21.5851</td>\n",
       "      <td>DES0357-3957</td>\n",
       "      <td>20141105000042_DES0357-3957</td>\n",
       "      <td>0</td>\n",
       "      <td>0.033750</td>\n",
       "    </tr>\n",
       "    <tr>\n",
       "      <th>2</th>\n",
       "      <td>3072912804</td>\n",
       "      <td>59.696447</td>\n",
       "      <td>-39.724721</td>\n",
       "      <td>23.5126</td>\n",
       "      <td>24.0006</td>\n",
       "      <td>23.7241</td>\n",
       "      <td>DES0357-3957</td>\n",
       "      <td>20141105000042_DES0357-3957</td>\n",
       "      <td>0</td>\n",
       "      <td>0.028415</td>\n",
       "    </tr>\n",
       "    <tr>\n",
       "      <th>3</th>\n",
       "      <td>3073213545</td>\n",
       "      <td>60.048173</td>\n",
       "      <td>-42.256537</td>\n",
       "      <td>23.0425</td>\n",
       "      <td>22.4891</td>\n",
       "      <td>21.8430</td>\n",
       "      <td>DES0401-4206</td>\n",
       "      <td>20141105000042_DES0401-4206</td>\n",
       "      <td>0</td>\n",
       "      <td>0.024414</td>\n",
       "    </tr>\n",
       "    <tr>\n",
       "      <th>4</th>\n",
       "      <td>3073221188</td>\n",
       "      <td>60.026761</td>\n",
       "      <td>-42.206840</td>\n",
       "      <td>23.8211</td>\n",
       "      <td>22.6393</td>\n",
       "      <td>22.2903</td>\n",
       "      <td>DES0401-4206</td>\n",
       "      <td>20141105000042_DES0401-4206</td>\n",
       "      <td>3</td>\n",
       "      <td>0.024488</td>\n",
       "    </tr>\n",
       "    <tr>\n",
       "      <th>5</th>\n",
       "      <td>3073228530</td>\n",
       "      <td>60.020613</td>\n",
       "      <td>-42.166291</td>\n",
       "      <td>25.2956</td>\n",
       "      <td>24.7867</td>\n",
       "      <td>23.9866</td>\n",
       "      <td>DES0401-4206</td>\n",
       "      <td>20141105000042_DES0401-4206</td>\n",
       "      <td>0</td>\n",
       "      <td>0.026044</td>\n",
       "    </tr>\n",
       "    <tr>\n",
       "      <th>...</th>\n",
       "      <td>...</td>\n",
       "      <td>...</td>\n",
       "      <td>...</td>\n",
       "      <td>...</td>\n",
       "      <td>...</td>\n",
       "      <td>...</td>\n",
       "      <td>...</td>\n",
       "      <td>...</td>\n",
       "      <td>...</td>\n",
       "      <td>...</td>\n",
       "    </tr>\n",
       "    <tr>\n",
       "      <th>4994</th>\n",
       "      <td>3031640315</td>\n",
       "      <td>92.117698</td>\n",
       "      <td>-60.202418</td>\n",
       "      <td>23.9438</td>\n",
       "      <td>23.6391</td>\n",
       "      <td>23.4671</td>\n",
       "      <td>DES0607-5957</td>\n",
       "      <td>20141031000031_DES0607-5957</td>\n",
       "      <td>0</td>\n",
       "      <td>0.170306</td>\n",
       "    </tr>\n",
       "    <tr>\n",
       "      <th>4995</th>\n",
       "      <td>3031662616</td>\n",
       "      <td>92.072317</td>\n",
       "      <td>-59.909455</td>\n",
       "      <td>25.7267</td>\n",
       "      <td>24.7890</td>\n",
       "      <td>25.0778</td>\n",
       "      <td>DES0607-5957</td>\n",
       "      <td>20141031000031_DES0607-5957</td>\n",
       "      <td>0</td>\n",
       "      <td>0.130073</td>\n",
       "    </tr>\n",
       "    <tr>\n",
       "      <th>4996</th>\n",
       "      <td>3031671658</td>\n",
       "      <td>91.268239</td>\n",
       "      <td>-59.808653</td>\n",
       "      <td>18.4179</td>\n",
       "      <td>17.7272</td>\n",
       "      <td>17.5441</td>\n",
       "      <td>DES0607-5957</td>\n",
       "      <td>20141031000031_DES0607-5957</td>\n",
       "      <td>0</td>\n",
       "      <td>0.151079</td>\n",
       "    </tr>\n",
       "    <tr>\n",
       "      <th>4997</th>\n",
       "      <td>3031687507</td>\n",
       "      <td>91.571400</td>\n",
       "      <td>-59.624856</td>\n",
       "      <td>19.8578</td>\n",
       "      <td>18.4245</td>\n",
       "      <td>17.7259</td>\n",
       "      <td>DES0607-5957</td>\n",
       "      <td>20141031000031_DES0607-5957</td>\n",
       "      <td>0</td>\n",
       "      <td>0.125331</td>\n",
       "    </tr>\n",
       "    <tr>\n",
       "      <th>4998</th>\n",
       "      <td>3031781255</td>\n",
       "      <td>92.080044</td>\n",
       "      <td>-55.976117</td>\n",
       "      <td>24.2933</td>\n",
       "      <td>23.5489</td>\n",
       "      <td>22.9797</td>\n",
       "      <td>DES0608-5540</td>\n",
       "      <td>20141031000031_DES0608-5540</td>\n",
       "      <td>2</td>\n",
       "      <td>0.219171</td>\n",
       "    </tr>\n",
       "    <tr>\n",
       "      <th>4999</th>\n",
       "      <td>3031790342</td>\n",
       "      <td>92.304375</td>\n",
       "      <td>-55.856561</td>\n",
       "      <td>20.8751</td>\n",
       "      <td>19.4533</td>\n",
       "      <td>18.3802</td>\n",
       "      <td>DES0608-5540</td>\n",
       "      <td>20141031000031_DES0608-5540</td>\n",
       "      <td>0</td>\n",
       "      <td>0.180124</td>\n",
       "    </tr>\n",
       "  </tbody>\n",
       "</table>\n",
       "<p>5000 rows × 10 columns</p>\n",
       "</div>"
      ],
      "text/plain": [
       "      COADD_OBJECTS_ID         RA        DEC  MAG_AUTO_G  MAG_AUTO_R  MAG_AUTO_I      TILENAME            MAGERR_DETMODEL_I  FLAGS_I  XCORR_SFD98_G\n",
       "0           3072879245  59.149460 -40.076769     24.4472     24.2912     23.9567  DES0357-3957  20141105000042_DES0357-3957        0       0.038233\n",
       "1           3072915159  58.978412 -39.694625     24.6694     22.5159     21.5851  DES0357-3957  20141105000042_DES0357-3957        0       0.033750\n",
       "2           3072912804  59.696447 -39.724721     23.5126     24.0006     23.7241  DES0357-3957  20141105000042_DES0357-3957        0       0.028415\n",
       "3           3073213545  60.048173 -42.256537     23.0425     22.4891     21.8430  DES0401-4206  20141105000042_DES0401-4206        0       0.024414\n",
       "4           3073221188  60.026761 -42.206840     23.8211     22.6393     22.2903  DES0401-4206  20141105000042_DES0401-4206        3       0.024488\n",
       "5           3073228530  60.020613 -42.166291     25.2956     24.7867     23.9866  DES0401-4206  20141105000042_DES0401-4206        0       0.026044\n",
       "...                ...        ...        ...         ...         ...         ...           ...                          ...      ...            ...\n",
       "4994        3031640315  92.117698 -60.202418     23.9438     23.6391     23.4671  DES0607-5957  20141031000031_DES0607-5957        0       0.170306\n",
       "4995        3031662616  92.072317 -59.909455     25.7267     24.7890     25.0778  DES0607-5957  20141031000031_DES0607-5957        0       0.130073\n",
       "4996        3031671658  91.268239 -59.808653     18.4179     17.7272     17.5441  DES0607-5957  20141031000031_DES0607-5957        0       0.151079\n",
       "4997        3031687507  91.571400 -59.624856     19.8578     18.4245     17.7259  DES0607-5957  20141031000031_DES0607-5957        0       0.125331\n",
       "4998        3031781255  92.080044 -55.976117     24.2933     23.5489     22.9797  DES0608-5540  20141031000031_DES0608-5540        2       0.219171\n",
       "4999        3031790342  92.304375 -55.856561     20.8751     19.4533     18.3802  DES0608-5540  20141031000031_DES0608-5540        0       0.180124\n",
       "\n",
       "[5000 rows x 10 columns]"
      ]
     },
     "execution_count": 22,
     "metadata": {},
     "output_type": "execute_result"
    }
   ],
   "source": [
    "DF.next()"
   ]
  },
  {
   "cell_type": "code",
   "execution_count": 24,
   "metadata": {
    "collapsed": false
   },
   "outputs": [
    {
     "data": {
      "text/html": [
       "<div>\n",
       "<table border=\"1\" class=\"dataframe\">\n",
       "  <thead>\n",
       "    <tr style=\"text-align: right;\">\n",
       "      <th></th>\n",
       "      <th>COADD_OBJECTS_ID</th>\n",
       "      <th>RA</th>\n",
       "      <th>DEC</th>\n",
       "      <th>MAG_AUTO_G</th>\n",
       "      <th>MAG_AUTO_R</th>\n",
       "      <th>MAG_AUTO_I</th>\n",
       "      <th>TILENAME</th>\n",
       "      <th>MAGERR_DETMODEL_I</th>\n",
       "      <th>FLAGS_I</th>\n",
       "      <th>XCORR_SFD98_G</th>\n",
       "    </tr>\n",
       "  </thead>\n",
       "  <tbody>\n",
       "    <tr>\n",
       "      <th>0</th>\n",
       "      <td>3031818297</td>\n",
       "      <td>91.941868</td>\n",
       "      <td>-55.500526</td>\n",
       "      <td>24.2774</td>\n",
       "      <td>23.1425</td>\n",
       "      <td>22.5941</td>\n",
       "      <td>DES0608-5540</td>\n",
       "      <td>20141031000031_DES0608-5540</td>\n",
       "      <td>0</td>\n",
       "      <td>0.227507</td>\n",
       "    </tr>\n",
       "    <tr>\n",
       "      <th>1</th>\n",
       "      <td>3031805421</td>\n",
       "      <td>92.294170</td>\n",
       "      <td>-55.665258</td>\n",
       "      <td>23.3376</td>\n",
       "      <td>23.2980</td>\n",
       "      <td>23.2652</td>\n",
       "      <td>DES0608-5540</td>\n",
       "      <td>20141031000031_DES0608-5540</td>\n",
       "      <td>0</td>\n",
       "      <td>0.203723</td>\n",
       "    </tr>\n",
       "    <tr>\n",
       "      <th>2</th>\n",
       "      <td>3031904650</td>\n",
       "      <td>91.639783</td>\n",
       "      <td>-48.647433</td>\n",
       "      <td>24.9551</td>\n",
       "      <td>24.3347</td>\n",
       "      <td>24.2368</td>\n",
       "      <td>DES0607-4831</td>\n",
       "      <td>20141031000031_DES0607-4831</td>\n",
       "      <td>0</td>\n",
       "      <td>0.145633</td>\n",
       "    </tr>\n",
       "    <tr>\n",
       "      <th>3</th>\n",
       "      <td>3031890704</td>\n",
       "      <td>91.408915</td>\n",
       "      <td>-48.864445</td>\n",
       "      <td>24.8661</td>\n",
       "      <td>22.8095</td>\n",
       "      <td>21.8804</td>\n",
       "      <td>DES0607-4831</td>\n",
       "      <td>20141031000031_DES0607-4831</td>\n",
       "      <td>0</td>\n",
       "      <td>0.136519</td>\n",
       "    </tr>\n",
       "    <tr>\n",
       "      <th>4</th>\n",
       "      <td>3031920656</td>\n",
       "      <td>91.569291</td>\n",
       "      <td>-48.409500</td>\n",
       "      <td>26.4439</td>\n",
       "      <td>24.9923</td>\n",
       "      <td>24.2001</td>\n",
       "      <td>DES0607-4831</td>\n",
       "      <td>20141031000031_DES0607-4831</td>\n",
       "      <td>0</td>\n",
       "      <td>0.168157</td>\n",
       "    </tr>\n",
       "    <tr>\n",
       "      <th>5</th>\n",
       "      <td>3031919288</td>\n",
       "      <td>91.425436</td>\n",
       "      <td>-48.430647</td>\n",
       "      <td>24.3908</td>\n",
       "      <td>23.1633</td>\n",
       "      <td>22.2368</td>\n",
       "      <td>DES0607-4831</td>\n",
       "      <td>20141031000031_DES0607-4831</td>\n",
       "      <td>3</td>\n",
       "      <td>0.170047</td>\n",
       "    </tr>\n",
       "    <tr>\n",
       "      <th>...</th>\n",
       "      <td>...</td>\n",
       "      <td>...</td>\n",
       "      <td>...</td>\n",
       "      <td>...</td>\n",
       "      <td>...</td>\n",
       "      <td>...</td>\n",
       "      <td>...</td>\n",
       "      <td>...</td>\n",
       "      <td>...</td>\n",
       "      <td>...</td>\n",
       "    </tr>\n",
       "    <tr>\n",
       "      <th>3368</th>\n",
       "      <td>3130452163</td>\n",
       "      <td>351.805436</td>\n",
       "      <td>-55.213665</td>\n",
       "      <td>23.2921</td>\n",
       "      <td>22.7168</td>\n",
       "      <td>22.5535</td>\n",
       "      <td>DES2328-5457</td>\n",
       "      <td>20141202000011_DES2328-5457</td>\n",
       "      <td>0</td>\n",
       "      <td>0.036640</td>\n",
       "    </tr>\n",
       "    <tr>\n",
       "      <th>3369</th>\n",
       "      <td>3130463106</td>\n",
       "      <td>351.773849</td>\n",
       "      <td>-54.937334</td>\n",
       "      <td>23.9523</td>\n",
       "      <td>22.5014</td>\n",
       "      <td>21.7478</td>\n",
       "      <td>DES2328-5457</td>\n",
       "      <td>20141202000011_DES2328-5457</td>\n",
       "      <td>0</td>\n",
       "      <td>0.034565</td>\n",
       "    </tr>\n",
       "    <tr>\n",
       "      <th>3370</th>\n",
       "      <td>3130458607</td>\n",
       "      <td>352.285689</td>\n",
       "      <td>-55.050823</td>\n",
       "      <td>21.1033</td>\n",
       "      <td>20.5093</td>\n",
       "      <td>20.1339</td>\n",
       "      <td>DES2328-5457</td>\n",
       "      <td>20141202000011_DES2328-5457</td>\n",
       "      <td>0</td>\n",
       "      <td>0.043197</td>\n",
       "    </tr>\n",
       "    <tr>\n",
       "      <th>3371</th>\n",
       "      <td>3129748112</td>\n",
       "      <td>354.115727</td>\n",
       "      <td>-42.887240</td>\n",
       "      <td>23.6844</td>\n",
       "      <td>22.7677</td>\n",
       "      <td>22.6865</td>\n",
       "      <td>DES2335-4249</td>\n",
       "      <td>20141202000011_DES2335-4249</td>\n",
       "      <td>0</td>\n",
       "      <td>0.048606</td>\n",
       "    </tr>\n",
       "    <tr>\n",
       "      <th>3372</th>\n",
       "      <td>3129768211</td>\n",
       "      <td>353.944852</td>\n",
       "      <td>-42.769342</td>\n",
       "      <td>24.6917</td>\n",
       "      <td>24.0493</td>\n",
       "      <td>23.6182</td>\n",
       "      <td>DES2335-4249</td>\n",
       "      <td>20141202000011_DES2335-4249</td>\n",
       "      <td>0</td>\n",
       "      <td>0.054682</td>\n",
       "    </tr>\n",
       "    <tr>\n",
       "      <th>3373</th>\n",
       "      <td>3129775564</td>\n",
       "      <td>353.928609</td>\n",
       "      <td>-42.712737</td>\n",
       "      <td>24.8205</td>\n",
       "      <td>22.9208</td>\n",
       "      <td>21.8094</td>\n",
       "      <td>DES2335-4249</td>\n",
       "      <td>20141202000011_DES2335-4249</td>\n",
       "      <td>0</td>\n",
       "      <td>0.057757</td>\n",
       "    </tr>\n",
       "  </tbody>\n",
       "</table>\n",
       "<p>3374 rows × 10 columns</p>\n",
       "</div>"
      ],
      "text/plain": [
       "      COADD_OBJECTS_ID          RA        DEC  MAG_AUTO_G  MAG_AUTO_R  MAG_AUTO_I      TILENAME            MAGERR_DETMODEL_I  FLAGS_I  XCORR_SFD98_G\n",
       "0           3031818297   91.941868 -55.500526     24.2774     23.1425     22.5941  DES0608-5540  20141031000031_DES0608-5540        0       0.227507\n",
       "1           3031805421   92.294170 -55.665258     23.3376     23.2980     23.2652  DES0608-5540  20141031000031_DES0608-5540        0       0.203723\n",
       "2           3031904650   91.639783 -48.647433     24.9551     24.3347     24.2368  DES0607-4831  20141031000031_DES0607-4831        0       0.145633\n",
       "3           3031890704   91.408915 -48.864445     24.8661     22.8095     21.8804  DES0607-4831  20141031000031_DES0607-4831        0       0.136519\n",
       "4           3031920656   91.569291 -48.409500     26.4439     24.9923     24.2001  DES0607-4831  20141031000031_DES0607-4831        0       0.168157\n",
       "5           3031919288   91.425436 -48.430647     24.3908     23.1633     22.2368  DES0607-4831  20141031000031_DES0607-4831        3       0.170047\n",
       "...                ...         ...        ...         ...         ...         ...           ...                          ...      ...            ...\n",
       "3368        3130452163  351.805436 -55.213665     23.2921     22.7168     22.5535  DES2328-5457  20141202000011_DES2328-5457        0       0.036640\n",
       "3369        3130463106  351.773849 -54.937334     23.9523     22.5014     21.7478  DES2328-5457  20141202000011_DES2328-5457        0       0.034565\n",
       "3370        3130458607  352.285689 -55.050823     21.1033     20.5093     20.1339  DES2328-5457  20141202000011_DES2328-5457        0       0.043197\n",
       "3371        3129748112  354.115727 -42.887240     23.6844     22.7677     22.6865  DES2335-4249  20141202000011_DES2335-4249        0       0.048606\n",
       "3372        3129768211  353.944852 -42.769342     24.6917     24.0493     23.6182  DES2335-4249  20141202000011_DES2335-4249        0       0.054682\n",
       "3373        3129775564  353.928609 -42.712737     24.8205     22.9208     21.8094  DES2335-4249  20141202000011_DES2335-4249        0       0.057757\n",
       "\n",
       "[3374 rows x 10 columns]"
      ]
     },
     "execution_count": 24,
     "metadata": {},
     "output_type": "execute_result"
    }
   ],
   "source": [
    "DF.next()"
   ]
  },
  {
   "cell_type": "code",
   "execution_count": 26,
   "metadata": {
    "collapsed": false
   },
   "outputs": [
    {
     "ename": "StopIteration",
     "evalue": "No more data in the DB",
     "output_type": "error",
     "traceback": [
      "\u001b[1;31m---------------------------------------------------------------------------\u001b[0m",
      "\u001b[1;31mStopIteration\u001b[0m                             Traceback (most recent call last)",
      "\u001b[1;32m<ipython-input-26-3d67719ea298>\u001b[0m in \u001b[0;36m<module>\u001b[1;34m()\u001b[0m\n\u001b[1;32m----> 1\u001b[1;33m \u001b[0mDF\u001b[0m\u001b[1;33m.\u001b[0m\u001b[0mnext\u001b[0m\u001b[1;33m(\u001b[0m\u001b[1;33m)\u001b[0m\u001b[1;33m\u001b[0m\u001b[0m\n\u001b[0m",
      "\u001b[1;32m/usr/local/lib/python3.4/dist-packages/easyaccess/easyaccess.py\u001b[0m in \u001b[0;36mnext\u001b[1;34m(self)\u001b[0m\n\u001b[0;32m   2328\u001b[0m         \u001b[1;32melse\u001b[0m\u001b[1;33m:\u001b[0m\u001b[1;33m\u001b[0m\u001b[0m\n\u001b[0;32m   2329\u001b[0m             \u001b[0mself\u001b[0m\u001b[1;33m.\u001b[0m\u001b[0mcursor\u001b[0m\u001b[1;33m.\u001b[0m\u001b[0mclose\u001b[0m\u001b[1;33m(\u001b[0m\u001b[1;33m)\u001b[0m\u001b[1;33m\u001b[0m\u001b[0m\n\u001b[1;32m-> 2330\u001b[1;33m             \u001b[1;32mraise\u001b[0m \u001b[0mStopIteration\u001b[0m\u001b[1;33m(\u001b[0m\u001b[1;34m'No more data in the DB'\u001b[0m\u001b[1;33m)\u001b[0m\u001b[1;33m\u001b[0m\u001b[0m\n\u001b[0m\u001b[0;32m   2331\u001b[0m \u001b[1;33m\u001b[0m\u001b[0m\n\u001b[0;32m   2332\u001b[0m \u001b[1;33m\u001b[0m\u001b[0m\n",
      "\u001b[1;31mStopIteration\u001b[0m: No more data in the DB"
     ]
    }
   ],
   "source": [
    "DF.next()"
   ]
  },
  {
   "cell_type": "markdown",
   "metadata": {},
   "source": [
    "### Can save query directly to file (fits, csv, hdf5)"
   ]
  },
  {
   "cell_type": "code",
   "execution_count": 31,
   "metadata": {
    "collapsed": false,
    "scrolled": true
   },
   "outputs": [
    {
     "name": "stdout",
     "output_type": "stream",
     "text": [
      "\n",
      "\u001b[32m\n",
      " Written 13374 rows to mytable.csv in 0.60 seconds and 2 trips\u001b[0m\n",
      "\n",
      "\n"
     ]
    }
   ],
   "source": [
    "# write data to a file\n",
    "connection.query_and_save(query,'mytable.csv') #same formatting\n"
   ]
  },
  {
   "cell_type": "markdown",
   "metadata": {},
   "source": [
    "### Upload  (or append) a pandas DataFrame into DB"
   ]
  },
  {
   "cell_type": "code",
   "execution_count": 63,
   "metadata": {
    "collapsed": false
   },
   "outputs": [
    {
     "data": {
      "text/html": [
       "<div>\n",
       "<table border=\"1\" class=\"dataframe\">\n",
       "  <thead>\n",
       "    <tr style=\"text-align: right;\">\n",
       "      <th></th>\n",
       "      <th>RA</th>\n",
       "      <th>DEC</th>\n",
       "      <th>VAL</th>\n",
       "    </tr>\n",
       "  </thead>\n",
       "  <tbody>\n",
       "    <tr>\n",
       "      <th>0</th>\n",
       "      <td>0.639897</td>\n",
       "      <td>0.708390</td>\n",
       "      <td>0.781447</td>\n",
       "    </tr>\n",
       "    <tr>\n",
       "      <th>1</th>\n",
       "      <td>0.198987</td>\n",
       "      <td>0.462451</td>\n",
       "      <td>0.345241</td>\n",
       "    </tr>\n",
       "    <tr>\n",
       "      <th>2</th>\n",
       "      <td>0.630184</td>\n",
       "      <td>0.102047</td>\n",
       "      <td>0.241278</td>\n",
       "    </tr>\n",
       "    <tr>\n",
       "      <th>3</th>\n",
       "      <td>0.892800</td>\n",
       "      <td>0.163618</td>\n",
       "      <td>0.166124</td>\n",
       "    </tr>\n",
       "    <tr>\n",
       "      <th>4</th>\n",
       "      <td>0.656149</td>\n",
       "      <td>0.903438</td>\n",
       "      <td>0.242735</td>\n",
       "    </tr>\n",
       "    <tr>\n",
       "      <th>5</th>\n",
       "      <td>0.761074</td>\n",
       "      <td>0.850463</td>\n",
       "      <td>0.123226</td>\n",
       "    </tr>\n",
       "    <tr>\n",
       "      <th>...</th>\n",
       "      <td>...</td>\n",
       "      <td>...</td>\n",
       "      <td>...</td>\n",
       "    </tr>\n",
       "    <tr>\n",
       "      <th>99994</th>\n",
       "      <td>0.209424</td>\n",
       "      <td>0.426245</td>\n",
       "      <td>0.416143</td>\n",
       "    </tr>\n",
       "    <tr>\n",
       "      <th>99995</th>\n",
       "      <td>0.163051</td>\n",
       "      <td>0.793751</td>\n",
       "      <td>0.646299</td>\n",
       "    </tr>\n",
       "    <tr>\n",
       "      <th>99996</th>\n",
       "      <td>0.458087</td>\n",
       "      <td>0.607685</td>\n",
       "      <td>0.884564</td>\n",
       "    </tr>\n",
       "    <tr>\n",
       "      <th>99997</th>\n",
       "      <td>0.970761</td>\n",
       "      <td>0.860366</td>\n",
       "      <td>0.944156</td>\n",
       "    </tr>\n",
       "    <tr>\n",
       "      <th>99998</th>\n",
       "      <td>0.272032</td>\n",
       "      <td>0.712365</td>\n",
       "      <td>0.615205</td>\n",
       "    </tr>\n",
       "    <tr>\n",
       "      <th>99999</th>\n",
       "      <td>0.144974</td>\n",
       "      <td>0.517241</td>\n",
       "      <td>0.210873</td>\n",
       "    </tr>\n",
       "  </tbody>\n",
       "</table>\n",
       "<p>100000 rows × 3 columns</p>\n",
       "</div>"
      ],
      "text/plain": [
       "             RA       DEC       VAL\n",
       "0      0.639897  0.708390  0.781447\n",
       "1      0.198987  0.462451  0.345241\n",
       "2      0.630184  0.102047  0.241278\n",
       "3      0.892800  0.163618  0.166124\n",
       "4      0.656149  0.903438  0.242735\n",
       "5      0.761074  0.850463  0.123226\n",
       "...         ...       ...       ...\n",
       "99994  0.209424  0.426245  0.416143\n",
       "99995  0.163051  0.793751  0.646299\n",
       "99996  0.458087  0.607685  0.884564\n",
       "99997  0.970761  0.860366  0.944156\n",
       "99998  0.272032  0.712365  0.615205\n",
       "99999  0.144974  0.517241  0.210873\n",
       "\n",
       "[100000 rows x 3 columns]"
      ]
     },
     "execution_count": 63,
     "metadata": {},
     "output_type": "execute_result"
    }
   ],
   "source": [
    "# Create a DF first\n",
    "N=300000\n",
    "DF = pd.DataFrame(np.random.rand(N).reshape((N/3, 3)),columns=['RA','DEC','VAL'])\n",
    "DF"
   ]
  },
  {
   "cell_type": "code",
   "execution_count": 70,
   "metadata": {
    "collapsed": false
   },
   "outputs": [
    {
     "name": "stdout",
     "output_type": "stream",
     "text": [
      "\u001b[32m\n",
      " [Iter: 1] Inserted 100000 rows and 3 columns into table PANDAS_TEST in 0.39 seconds\u001b[0m\n"
     ]
    },
    {
     "data": {
      "text/plain": [
       "True"
      ]
     },
     "execution_count": 70,
     "metadata": {},
     "output_type": "execute_result"
    }
   ],
   "source": [
    "## Upload to DB\n",
    "connection.pandas_to_db(DF, tablename='Pandas_test')"
   ]
  },
  {
   "cell_type": "code",
   "execution_count": 71,
   "metadata": {
    "collapsed": false
   },
   "outputs": [
    {
     "name": "stdout",
     "output_type": "stream",
     "text": [
      "\u001b[32m\n",
      " [Iter: 1] Inserted 100000 rows and 3 columns into table PANDAS_TEST in 0.34 seconds\u001b[0m\n"
     ]
    },
    {
     "data": {
      "text/plain": [
       "True"
      ]
     },
     "execution_count": 71,
     "metadata": {},
     "output_type": "execute_result"
    }
   ],
   "source": [
    "connection.pandas_to_db(DF, tablename='Pandas_test', append=True)"
   ]
  },
  {
   "cell_type": "code",
   "execution_count": 72,
   "metadata": {
    "collapsed": false
   },
   "outputs": [
    {
     "name": "stdout",
     "output_type": "stream",
     "text": [
      "\n",
      "\u001b[32m\n",
      "1 rows in 0.06 seconds\u001b[0m\n",
      "\n",
      "   COUNT(*)\n",
      "1    200000\n",
      "\n"
     ]
    }
   ],
   "source": [
    "connection.query_and_print('select count(*) from PANDAS_TEST')"
   ]
  },
  {
   "cell_type": "code",
   "execution_count": 73,
   "metadata": {
    "collapsed": false
   },
   "outputs": [
    {
     "name": "stdout",
     "output_type": "stream",
     "text": [
      "\n",
      "\u001b[32m\n",
      "5 rows in 0.02 seconds\u001b[0m\n",
      "\n",
      "         RA       DEC       VAL\n",
      "1  0.639897  0.708390  0.781447\n",
      "2  0.198987  0.462451  0.345241\n",
      "3  0.630184  0.102047  0.241278\n",
      "4  0.892800  0.163618  0.166124\n",
      "5  0.656149  0.903438  0.242735\n",
      "\n"
     ]
    }
   ],
   "source": [
    "connection.query_and_print('select * from PANDAS_TEST where rownum < 6')"
   ]
  },
  {
   "cell_type": "markdown",
   "metadata": {},
   "source": [
    "### Drop tables"
   ]
  },
  {
   "cell_type": "code",
   "execution_count": 77,
   "metadata": {
    "collapsed": false
   },
   "outputs": [
    {
     "name": "stdout",
     "output_type": "stream",
     "text": [
      "\u001b[31m\n",
      " Couldn't drop 'PANDAS_TEST' (doesn't exist).\u001b[0m\n"
     ]
    }
   ],
   "source": [
    "connection.drop_table('Pandas_test')"
   ]
  },
  {
   "cell_type": "markdown",
   "metadata": {},
   "source": [
    "### Load (or append) tables directly from file (optionally in chunks)"
   ]
  },
  {
   "cell_type": "code",
   "execution_count": 86,
   "metadata": {
    "collapsed": false
   },
   "outputs": [],
   "source": [
    "# Save a file\n",
    "DF.to_csv('mytable.csv',sep=',',index=False)"
   ]
  },
  {
   "cell_type": "code",
   "execution_count": 87,
   "metadata": {
    "collapsed": false
   },
   "outputs": [
    {
     "name": "stdout",
     "output_type": "stream",
     "text": [
      "\u001b[32m\n",
      " [Iter: 1] Inserted 100000 rows and 3 columns into table MY_SUPER_TABLE in 0.35 seconds\u001b[0m\n",
      "\u001b[32m\n",
      " ** Table MY_SUPER_TABLE loaded successfully with 100000 rows.\n",
      "\u001b[0m\n",
      "\u001b[36m You may want to refresh the metadata so your new table appears during\n",
      " autocompletion\u001b[0m\n",
      "\u001b[36m DESDB ~> refresh_metadata_cache;\u001b[0m\n",
      "\n",
      "\u001b[34m To make this table public run:\u001b[0m\n",
      "\u001b[34m DESDB ~> grant select on MY_SUPER_TABLE to DES_READER;\u001b[0m \n",
      "\n"
     ]
    },
    {
     "data": {
      "text/plain": [
       "True"
      ]
     },
     "execution_count": 87,
     "metadata": {},
     "output_type": "execute_result"
    }
   ],
   "source": [
    "connection.load_table('mytable.csv', name='My_super_table')"
   ]
  },
  {
   "cell_type": "code",
   "execution_count": 90,
   "metadata": {
    "collapsed": false
   },
   "outputs": [
    {
     "name": "stdout",
     "output_type": "stream",
     "text": [
      "\u001b[32m\n",
      " [Iter: 1] Inserted 30000 rows and 3 columns into table MY_SUPER_TABLE in 0.11 seconds\u001b[0m\n",
      "\u001b[32m\n",
      " [Iter: 2] Inserted 30000 rows and 3 columns into table MY_SUPER_TABLE in 0.14 seconds\u001b[0m\n",
      "\u001b[32m\n",
      " [Iter: 3] Inserted 30000 rows and 3 columns into table MY_SUPER_TABLE in 0.16 seconds\u001b[0m\n",
      "\u001b[32m\n",
      " [Iter: 4] Inserted 10000 rows and 3 columns into table MY_SUPER_TABLE in 0.04 seconds\u001b[0m\n",
      "\u001b[32m\n",
      " ** Table MY_SUPER_TABLE appended successfully with 100000 rows.\u001b[0m\n"
     ]
    },
    {
     "data": {
      "text/plain": [
       "True"
      ]
     },
     "execution_count": 90,
     "metadata": {},
     "output_type": "execute_result"
    }
   ],
   "source": [
    "connection.append_table('mytable.csv', name='My_super_table', chunksize=30000)"
   ]
  },
  {
   "cell_type": "code",
   "execution_count": 91,
   "metadata": {
    "collapsed": false
   },
   "outputs": [
    {
     "name": "stdout",
     "output_type": "stream",
     "text": [
      "\n",
      "\u001b[32m\n",
      "1 rows in 0.02 seconds\u001b[0m\n",
      "\n",
      "   COUNT(*)\n",
      "1    200000\n",
      "\n"
     ]
    }
   ],
   "source": [
    "connection.query_and_print('select count(*) from MY_SUPER_TABLE')"
   ]
  },
  {
   "cell_type": "code",
   "execution_count": 92,
   "metadata": {
    "collapsed": true
   },
   "outputs": [],
   "source": [
    "connection.drop_table('MY_SUPER_TABLE')"
   ]
  },
  {
   "cell_type": "markdown",
   "metadata": {},
   "source": [
    "### In-query python functions!"
   ]
  },
  {
   "cell_type": "code",
   "execution_count": 93,
   "metadata": {
    "collapsed": false
   },
   "outputs": [
    {
     "name": "stdout",
     "output_type": "stream",
     "text": [
      "\u001b[32mThe following functions are accessible by easyaccess\u001b[0m\n",
      "\u001b[32mi.e., they are wrapped with @toeasyaccess\u001b[0m\n",
      "\n",
      "    Y.my_func()\n",
      "    Y.my_sum()\n"
     ]
    },
    {
     "data": {
      "text/plain": [
       "True"
      ]
     },
     "execution_count": 93,
     "metadata": {},
     "output_type": "execute_result"
    }
   ],
   "source": [
    "# load module\n",
    "connection.ea_import('wrapped as Y')"
   ]
  },
  {
   "cell_type": "code",
   "execution_count": 94,
   "metadata": {
    "collapsed": false
   },
   "outputs": [
    {
     "name": "stdout",
     "output_type": "stream",
     "text": [
      "\n",
      "Help for Y.my_sum:\n",
      "\n",
      "Y.my_sum(a, b, min_value=None, max_value=None)\n",
      "\n",
      "    Sum two colums, if max_values is defined the values are clipped\n",
      "    to that value\n",
      "    \n"
     ]
    }
   ],
   "source": [
    "connection.do_help_function('Y.my_sum')"
   ]
  },
  {
   "cell_type": "code",
   "execution_count": 113,
   "metadata": {
    "collapsed": true
   },
   "outputs": [],
   "source": [
    "query2 = 'SELECT COADD_OBJECTS_ID, /*p: Y.my_sum(RA,DEC) as my_col*/ from mcarras2.MINI_Y1A1 where rownum < 10'"
   ]
  },
  {
   "cell_type": "code",
   "execution_count": 114,
   "metadata": {
    "collapsed": false
   },
   "outputs": [
    {
     "data": {
      "text/html": [
       "<div>\n",
       "<table border=\"1\" class=\"dataframe\">\n",
       "  <thead>\n",
       "    <tr style=\"text-align: right;\">\n",
       "      <th></th>\n",
       "      <th>COADD_OBJECTS_ID</th>\n",
       "      <th>MY_COL</th>\n",
       "    </tr>\n",
       "  </thead>\n",
       "  <tbody>\n",
       "    <tr>\n",
       "      <th>0</th>\n",
       "      <td>3120938977</td>\n",
       "      <td>62.411859</td>\n",
       "    </tr>\n",
       "    <tr>\n",
       "      <th>1</th>\n",
       "      <td>3120944503</td>\n",
       "      <td>62.754084</td>\n",
       "    </tr>\n",
       "    <tr>\n",
       "      <th>2</th>\n",
       "      <td>3120954907</td>\n",
       "      <td>61.670150</td>\n",
       "    </tr>\n",
       "    <tr>\n",
       "      <th>3</th>\n",
       "      <td>3120936831</td>\n",
       "      <td>61.893768</td>\n",
       "    </tr>\n",
       "    <tr>\n",
       "      <th>4</th>\n",
       "      <td>3120952757</td>\n",
       "      <td>62.022401</td>\n",
       "    </tr>\n",
       "    <tr>\n",
       "      <th>5</th>\n",
       "      <td>3120045269</td>\n",
       "      <td>52.264901</td>\n",
       "    </tr>\n",
       "    <tr>\n",
       "      <th>6</th>\n",
       "      <td>3120047663</td>\n",
       "      <td>57.268176</td>\n",
       "    </tr>\n",
       "    <tr>\n",
       "      <th>7</th>\n",
       "      <td>3120047896</td>\n",
       "      <td>57.737270</td>\n",
       "    </tr>\n",
       "    <tr>\n",
       "      <th>8</th>\n",
       "      <td>3120055956</td>\n",
       "      <td>57.298902</td>\n",
       "    </tr>\n",
       "  </tbody>\n",
       "</table>\n",
       "</div>"
      ],
      "text/plain": [
       "   COADD_OBJECTS_ID     MY_COL\n",
       "0        3120938977  62.411859\n",
       "1        3120944503  62.754084\n",
       "2        3120954907  61.670150\n",
       "3        3120936831  61.893768\n",
       "4        3120952757  62.022401\n",
       "5        3120045269  52.264901\n",
       "6        3120047663  57.268176\n",
       "7        3120047896  57.737270\n",
       "8        3120055956  57.298902"
      ]
     },
     "execution_count": 114,
     "metadata": {},
     "output_type": "execute_result"
    }
   ],
   "source": [
    "df = connection.query_to_pandas(query2)\n",
    "df"
   ]
  },
  {
   "cell_type": "code",
   "execution_count": null,
   "metadata": {
    "collapsed": false
   },
   "outputs": [],
   "source": []
  },
  {
   "cell_type": "markdown",
   "metadata": {
    "collapsed": true,
    "scrolled": true
   },
   "source": [
    "# Check easyaccess tutorial [here](http://deslogin.cosmology.illinois.edu/~mcarras2/DESDM.html#/) and confluence page [here](https://opensource.ncsa.illinois.edu/confluence/display/DESDM/EasyAccess)"
   ]
  },
  {
   "cell_type": "code",
   "execution_count": null,
   "metadata": {
    "collapsed": true
   },
   "outputs": [],
   "source": []
  }
 ],
 "metadata": {
  "kernelspec": {
   "display_name": "Python 3",
   "language": "python",
   "name": "python3"
  },
  "language_info": {
   "codemirror_mode": {
    "name": "ipython",
    "version": 3
   },
   "file_extension": ".py",
   "mimetype": "text/x-python",
   "name": "python",
   "nbconvert_exporter": "python",
   "pygments_lexer": "ipython3",
   "version": "3.4.0"
  }
 },
 "nbformat": 4,
 "nbformat_minor": 0
}
